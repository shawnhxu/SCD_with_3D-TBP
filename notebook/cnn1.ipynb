{
 "cells": [
  {
   "cell_type": "markdown",
   "metadata": {},
   "source": [
    "## CNN Attempt for ISIC 2024 - Skin Cancer Detection with 3D-TBP\n",
    "\n",
    "Present issue is the massive imbalance in the dataset of positives compared to negatives. To address this issue, I will utilize a custom sampler object called `ImbalancedDatasetSampler` when initiating DataLoader objects.\n",
    "\n",
    "Another step to increase the effectiveness of CNN on binary classification of skin cancer on the image dataset is using an ensemble of CNN's which is commonly known to increase overall performances."
   ]
  },
  {
   "cell_type": "markdown",
   "metadata": {},
   "source": [
    "## Import Libraries"
   ]
  },
  {
   "cell_type": "code",
   "execution_count": 3,
   "metadata": {},
   "outputs": [],
   "source": [
    "\"\"\"\n",
    "Import libraries\n",
    "\"\"\"\n",
    "import numpy as np\n",
    "import pandas as pd\n",
    "\n",
    "import torch\n",
    "from torch.utils.data import Dataset, DataLoader\n",
    "from torch.optim import lr_scheduler\n",
    "import torch.optim as optim\n",
    "import torch.nn as nn\n",
    "import torchvision\n",
    "import torchvision.transforms as transforms\n",
    "from torcheval.metrics.functional import binary_auroc\n",
    "from torchvision import models\n",
    "import matplotlib.pyplot as plt\n",
    "from sklearn.model_selection import train_test_split\n",
    "from imblearn.under_sampling import RandomUnderSampler\n",
    "from imblearn.over_sampling import RandomOverSampler\n",
    "from imblearn.pipeline import Pipeline\n",
    "from sklearn.metrics import accuracy_score\n",
    "from torch.cuda.amp import autocast, GradScaler\n",
    "\n",
    "from io import BytesIO\n",
    "import h5py\n",
    "import io\n",
    "import random\n",
    "import os\n",
    "from PIL import Image\n",
    "import cv2\n",
    "from tqdm import tqdm\n",
    "import copy\n",
    "import gc\n",
    "import time\n",
    "from collections import defaultdict\n",
    "\n",
    "# cuda gpu\n",
    "device = torch.device('cuda' if torch.cuda.is_available() else 'cpu')"
   ]
  },
  {
   "cell_type": "markdown",
   "metadata": {},
   "source": [
    "## Training Configuration"
   ]
  },
  {
   "cell_type": "code",
   "execution_count": 4,
   "metadata": {},
   "outputs": [],
   "source": [
    "CONFIG = {\n",
    "    \"seed\": 42,\n",
    "    \"epochs\": 20,\n",
    "    \"img_size\": 224,\n",
    "    \"train_batch_size\": 150,\n",
    "    \"valid_batch_size\": 200,\n",
    "    \"learning_rate\": 1e-5,\n",
    "    \"scheduler\": 'CosineAnnealingLR',\n",
    "    \"min_lr\": 1e-6,\n",
    "    \"T_max\": 500,\n",
    "    \"weight_decay\": 1e-6,\n",
    "    \"fold\" : 0,\n",
    "    \"n_fold\": 5,\n",
    "    \"n_accumulate\": 1,\n",
    "    \"device\": device,\n",
    "\n",
    "    }"
   ]
  },
  {
   "cell_type": "code",
   "execution_count": 5,
   "metadata": {},
   "outputs": [],
   "source": [
    "\"\"\"\n",
    "Set seed and \n",
    "\"\"\"\n",
    "\n",
    "\n",
    "SEED = 111\n",
    "random.seed(SEED)\n",
    "np.random.seed(SEED)\n",
    "torch.manual_seed(SEED)\n",
    "torch.cuda.manual_seed(SEED)\n",
    "torch.backends.cudnn.deterministic = True\n",
    "\n",
    "ROOT_DIR = \"../data\"\n",
    "TRAIN_CSV = f\"{ROOT_DIR}/train-metadata.csv\"\n",
    "TRAIN_HDF = f\"{ROOT_DIR}/train-image.hdf5\"\n",
    "TEST_CSV = f'{ROOT_DIR}/test-metadata.csv'\n",
    "TEST_HDF = f'{ROOT_DIR}/test-image.hdf5'\n",
    "SAMPLE = f'{ROOT_DIR}/sample_submission.csv'"
   ]
  },
  {
   "cell_type": "markdown",
   "metadata": {},
   "source": [
    "## Reading in the Data\n",
    "\n",
    "Code to read in data is from Eren's notebook: https://www.kaggle.com/code/metlnfoor/resnet34-removing-hair-under-sampling/notebook"
   ]
  },
  {
   "cell_type": "code",
   "execution_count": 6,
   "metadata": {},
   "outputs": [],
   "source": [
    "train_metadata = pd.read_csv(TRAIN_CSV, low_memory=False)\n",
    "test_metadata = pd.read_csv(TEST_CSV)"
   ]
  },
  {
   "cell_type": "code",
   "execution_count": 7,
   "metadata": {},
   "outputs": [],
   "source": [
    "# Define oversampling and undersampling strategy\n",
    "oversample = RandomOverSampler(sampling_strategy=0.003)  \n",
    "undersample = RandomUnderSampler(sampling_strategy=0.9)  \n",
    "\n",
    "# Create a pipeline\n",
    "pipeline = Pipeline([\n",
    "    ('oversample', oversample),\n",
    "    ('undersample', undersample)\n",
    "])\n",
    "\n",
    "# Fit and transform the data\n",
    "X_sample, y_sample = pipeline.fit_resample(train_metadata.drop([\"target\"],axis=1),train_metadata[\"target\"])\n",
    "X_sample[\"target\"] = y_sample"
   ]
  },
  {
   "cell_type": "code",
   "execution_count": 8,
   "metadata": {},
   "outputs": [],
   "source": [
    "def read_images_from_hdf5(file_path):\n",
    "    images = {}\n",
    "    try:\n",
    "        with h5py.File(file_path, 'r') as file:\n",
    "            for key in tqdm(file.keys(), desc=\"Reading Files\"):\n",
    "                try:\n",
    "                    image_data = file[key][()]\n",
    "                    image = Image.open(io.BytesIO(image_data))\n",
    "                    images[key] = image\n",
    "                except Exception as e:\n",
    "                    print(f\"Error! from {key}: {e}\")\n",
    "    except Exception as e:\n",
    "        print(f\"Error occured while reading files : {e}\")\n",
    "    \n",
    "    return images"
   ]
  },
  {
   "cell_type": "code",
   "execution_count": 9,
   "metadata": {},
   "outputs": [
    {
     "name": "stderr",
     "output_type": "stream",
     "text": [
      "Reading Files: 100%|██████████| 401059/401059 [02:20<00:00, 2861.52it/s]\n",
      "Reading Files: 100%|██████████| 3/3 [00:00<00:00, 1505.31it/s]\n"
     ]
    }
   ],
   "source": [
    "train_images = read_images_from_hdf5(TRAIN_HDF)\n",
    "test_images = read_images_from_hdf5(TEST_HDF)"
   ]
  },
  {
   "cell_type": "markdown",
   "metadata": {},
   "source": [
    "## Remove Hair function"
   ]
  },
  {
   "cell_type": "code",
   "execution_count": 10,
   "metadata": {},
   "outputs": [],
   "source": [
    "def remove_hair(image):\n",
    "    gray = cv2.cvtColor(image, cv2.COLOR_BGR2GRAY)\n",
    "    kernel = cv2.getStructuringElement(cv2.MORPH_RECT, (9,9))\n",
    "    blackhat = cv2.morphologyEx(gray,cv2.MORPH_BLACKHAT,kernel)\n",
    "\n",
    "    _, thresh = cv2.threshold(blackhat, 10 ,255, cv2.THRESH_BINARY)\n",
    "    inpainted_image = cv2.inpaint(image, thresh, 1, cv2.INPAINT_TELEA)\n",
    "    return inpainted_image"
   ]
  },
  {
   "cell_type": "code",
   "execution_count": 11,
   "metadata": {},
   "outputs": [
    {
     "data": {
      "image/png": "[encoded data removed]",
      "text/plain": [
       "<Figure size 640x480 with 1 Axes>"
      ]
     },
     "metadata": {},
     "output_type": "display_data"
    },
    {
     "data": {
      "image/png": "[encoded data removed]",
      "text/plain": [
       "<Figure size 640x480 with 1 Axes>"
      ]
     },
     "metadata": {},
     "output_type": "display_data"
    }
   ],
   "source": [
    "plt.imshow(np.array(test_images[\"ISIC_0015740\"]))\n",
    "plt.title('Original')\n",
    "plt.axis('off')\n",
    "plt.show()\n",
    "\n",
    "plt.imshow(remove_hair(np.array(test_images[\"ISIC_0015740\"])))\n",
    "plt.title('Removed hair')\n",
    "plt.axis('off')\n",
    "plt.show()\n"
   ]
  },
  {
   "cell_type": "markdown",
   "metadata": {},
   "source": [
    "## Dataset Class\n",
    "\n",
    "Code to make dataset is from Eren's notebook: https://www.kaggle.com/code/metlnfoor/resnet34-removing-hair-under-sampling/notebook"
   ]
  },
  {
   "cell_type": "code",
   "execution_count": 12,
   "metadata": {},
   "outputs": [],
   "source": [
    "class ISIC_2024(Dataset):\n",
    "    def __init__(self,pil_images,metadata,transform=None,test=False):\n",
    "        self.pil_images = pil_images\n",
    "        self.metadata = metadata\n",
    "        self.transform = transform\n",
    "        self.test= test\n",
    "        \n",
    "    def __len__(self):\n",
    "        return len(self.metadata)\n",
    "    \n",
    "    # This function from https://www.kaggle.com/competitions/isic-2024-challenge/discussion/519735\n",
    "    def remove_hair(image):\n",
    "        gray = cv2.cvtColor(image, cv2.COLOR_BGR2GRAY)\n",
    "        kernel = cv2.getStructuringElement(cv2.MORPH_RECT, (9,9))\n",
    "        blackhat = cv2.morphologyEx(gray,cv2.MORPH_BLACKHAT,kernel)\n",
    "\n",
    "        _, thresh = cv2.threshold(blackhat, 10 ,255, cv2.THRESH_BINARY)\n",
    "        inpainted_image = cv2.inpaint(image, thresh, 1, cv2.INPAINT_TELEA)\n",
    "        return inpainted_image\n",
    "    \n",
    "    def __getitem__(self,idx):\n",
    "        isic_id = self.metadata.iloc[idx,0]\n",
    "        cleaned_image = remove_hair(np.array(self.pil_images[isic_id]))\n",
    "        image = Image.fromarray(cleaned_image)\n",
    "        if self.transform:\n",
    "            image = self.transform(image)\n",
    "        if self.test:\n",
    "            return image\n",
    "        label = self.metadata.iloc[idx,-1]\n",
    "        return image,label\n",
    "    # def get_labels(self):\n",
    "    #     return self.metadata[\"target\"].values"
   ]
  },
  {
   "cell_type": "code",
   "execution_count": 13,
   "metadata": {},
   "outputs": [],
   "source": [
    "train, val = train_test_split(X_sample,test_size=0.2,stratify=X_sample[\"target\"])"
   ]
  },
  {
   "cell_type": "markdown",
   "metadata": {},
   "source": [
    "## Get DataLoaders"
   ]
  },
  {
   "cell_type": "code",
   "execution_count": 14,
   "metadata": {},
   "outputs": [],
   "source": [
    "\"\"\"\n",
    "Define DataLoader Transforms\n",
    "\"\"\"\n",
    "\n",
    "train_transforms = transforms.Compose([\n",
    "    transforms.Resize((CONFIG['img_size'], CONFIG['img_size'])),\n",
    "    transforms.RandomHorizontalFlip(p=0.5), \n",
    "    transforms.RandomVerticalFlip(p=0.5),    \n",
    "    transforms.RandomRotation(20),           \n",
    "    transforms.ColorJitter(brightness=0.4, contrast=0.5, saturation=0.2, hue=0.1),\n",
    "    transforms.ToTensor(),                   \n",
    "    transforms.Normalize(mean=[0.485, 0.456, 0.406], std=[0.229, 0.224, 0.225]) # commonly used mean and std calculated from ImageNet\n",
    "])\n",
    "\n",
    "test_transforms = transforms.Compose([\n",
    "     transforms.Resize((CONFIG['img_size'], CONFIG['img_size'])),\n",
    "     transforms.ToTensor(),\n",
    "     transforms.Normalize(mean=[0.485, 0.456, 0.406], std=[0.229, 0.224, 0.225]) # commonly used mean and std calculated from ImageNet\n",
    "])"
   ]
  },
  {
   "cell_type": "code",
   "execution_count": 15,
   "metadata": {},
   "outputs": [],
   "source": [
    "#init the dataset objects with the transforms\n",
    "train_dataset = ISIC_2024(train_images, train, transform = train_transforms)\n",
    "val_dataset = ISIC_2024(train_images, val, transform = test_transforms)\n",
    "test_dataset = ISIC_2024(test_images, test_metadata, transform = test_transforms, test = True)"
   ]
  },
  {
   "cell_type": "code",
   "execution_count": 16,
   "metadata": {},
   "outputs": [],
   "source": [
    "# make dataloaders now with ImbalancedDatasetSampler() for training but dont need for val and test loaders\n",
    "train_loader = DataLoader(train_dataset,\n",
    "                          batch_size=32,\n",
    "                          pin_memory=True)\n",
    "val_loader = DataLoader(val_dataset, batch_size=32, pin_memory=True)\n",
    "test_loader = DataLoader(test_dataset, batch_size=32, pin_memory=True)"
   ]
  },
  {
   "cell_type": "markdown",
   "metadata": {},
   "source": [
    "## Define Model 1: ResNet152"
   ]
  },
  {
   "cell_type": "code",
   "execution_count": 17,
   "metadata": {},
   "outputs": [],
   "source": [
    "class CustomResNet152(nn.Module):\n",
    "    def __init__(self):\n",
    "        super(CustomResNet152, self).__init__()\n",
    "        # Load a pre-trained ResNet-152 model\n",
    "        self.base_model = models.resnet152(weights=models.ResNet152_Weights.IMAGENET1K_V1)\n",
    "        \n",
    "        # remove last fully connected layer for our purposes\n",
    "        self.features = nn.Sequential(*list(self.base_model.children())[:-2])\n",
    "\n",
    "        # Classifier that includes flattening the feature map and linear layer for class prediction\n",
    "        self.classifier = nn.Sequential(\n",
    "            nn.AdaptiveAvgPool2d((1, 1)),\n",
    "            nn.Flatten(),\n",
    "            nn.Linear(2048, 1),  # output single value for prob calculation\n",
    "            nn.Sigmoid()  # sigmoid activation for probability\n",
    "        )\n",
    "    \n",
    "    def forward(self, x):\n",
    "        # extract features\n",
    "        x = self.features(x)\n",
    "        # classify features\n",
    "        output = self.classifier(x)\n",
    "        return output"
   ]
  },
  {
   "cell_type": "code",
   "execution_count": 18,
   "metadata": {},
   "outputs": [],
   "source": [
    "model1 = CustomResNet152()\n",
    "model1 = model1.to(device)"
   ]
  },
  {
   "cell_type": "markdown",
   "metadata": {},
   "source": [
    "## Define Criterion and Optimizer"
   ]
  },
  {
   "cell_type": "code",
   "execution_count": 19,
   "metadata": {},
   "outputs": [],
   "source": [
    "criterion = nn.BCEWithLogitsLoss()\n",
    "optimizer = optim.Adam(model1.parameters(), lr=CONFIG['learning_rate'], \n",
    "                       weight_decay=CONFIG['weight_decay'])\n",
    "scaler = GradScaler()  # For mixed precision\n"
   ]
  },
  {
   "cell_type": "markdown",
   "metadata": {},
   "source": [
    "## Get Scheduler"
   ]
  },
  {
   "cell_type": "code",
   "execution_count": 20,
   "metadata": {},
   "outputs": [],
   "source": [
    "def fetch_scheduler(optimizer):\n",
    "    if CONFIG['scheduler'] == 'CosineAnnealingLR':\n",
    "        scheduler = lr_scheduler.CosineAnnealingLR(optimizer,T_max=CONFIG['T_max'], \n",
    "                                                   eta_min=CONFIG['min_lr'])\n",
    "    elif CONFIG['scheduler'] == 'CosineAnnealingWarmRestarts':\n",
    "        scheduler = lr_scheduler.CosineAnnealingWarmRestarts(optimizer,T_0=CONFIG['T_0'], \n",
    "                                                             eta_min=CONFIG['min_lr'])\n",
    "    elif CONFIG['scheduler'] == None:\n",
    "        return None\n",
    "        \n",
    "    return scheduler\n",
    "\n",
    "scheduler = fetch_scheduler(optimizer)"
   ]
  },
  {
   "cell_type": "markdown",
   "metadata": {},
   "source": [
    "## Training and Val Loop Function"
   ]
  },
  {
   "cell_type": "code",
   "execution_count": 21,
   "metadata": {},
   "outputs": [],
   "source": [
    "def eval_or_train(model, dataloader, optimizer, criterion, device, mode = 'eval'):\n",
    "    if mode == 'train':\n",
    "        # Init training mode\n",
    "        model.train()\n",
    "        # Init running loss, correct preds, and total correct preds for each epoch\n",
    "        epoch_total_loss = 0.0\n",
    "        epoch_correct_preds = 0\n",
    "        epoch_total_preds = 0\n",
    "        all_labels = []\n",
    "        all_preds = []\n",
    "\n",
    "        for data, target in tqdm(dataloader, desc=\"Training Loop\"):\n",
    "\n",
    "            # Init data and target into cuda\n",
    "            data = data.to(device)\n",
    "            target = target.to(device).float()\n",
    "\n",
    "            optimizer.zero_grad()\n",
    "\n",
    "            # Mixed precision context\n",
    "            with autocast():\n",
    "                # Predict using input data\n",
    "                curr_pred = model(data)\n",
    "                \n",
    "                # Change the shape of target to match prediction\n",
    "                target = target.view(curr_pred.size())\n",
    "\n",
    "                # Calculate loss of prediction with true label\n",
    "                curr_loss = criterion(curr_pred, target)\n",
    "\n",
    "            # Backprop with scaled loss\n",
    "            scaler.scale(curr_loss).backward()\n",
    "            # Gradient descent step with scaler\n",
    "            scaler.step(optimizer)\n",
    "            # Update the scaler\n",
    "            scaler.update()\n",
    "\n",
    "            epoch_total_loss += curr_loss.item() * data.size(0)\n",
    "            _, predicted = torch.max(curr_pred, 1)\n",
    "\n",
    "            epoch_correct_preds += (predicted == target).sum().item()\n",
    "            epoch_total_preds += target.size(0)\n",
    "\n",
    "            all_labels.extend(target.cpu().numpy())\n",
    "            all_preds.extend(predicted.cpu().numpy())\n",
    "\n",
    "        train_avg_loss = epoch_total_loss / len(dataloader.dataset)\n",
    "        train_acc = accuracy_score(all_labels, all_preds)\n",
    "\n",
    "        return train_avg_loss, train_acc\n",
    "    \n",
    "    elif mode == 'eval':\n",
    "        #init eval mode\n",
    "        model.eval()\n",
    "        #init running loss, correct preds, and total correct preds for each epoch\n",
    "        epoch_total_loss = 0.0\n",
    "        epoch_correct_preds = 0\n",
    "        epoch_total_preds = 0\n",
    "        all_labels = []\n",
    "        all_preds = []\n",
    "\n",
    "        for data, target in tqdm(dataloader, desc=\"Eval Loop\"):\n",
    "            \n",
    "            #init data and target into cuda\n",
    "            data = data.to(device)\n",
    "            target = target.to(device).float()\n",
    "\n",
    "            #predict using input data\n",
    "            curr_pred = model(data)\n",
    "\n",
    "            #change the shape of target to match prediction\n",
    "            target = target.view(curr_pred.size())\n",
    "            \n",
    "            #calculate loss of prediction with true label\n",
    "            curr_loss = criterion(curr_pred, target)\n",
    "\n",
    "            #add to running loss and get prediction\n",
    "            epoch_total_loss += curr_loss.item() * data.size(0)\n",
    "            _, predicted = torch.max(curr_pred, 1)\n",
    "\n",
    "            #get the number of correct preds and total preds\n",
    "            epoch_correct_preds += (predicted == target).sum().item()\n",
    "            epoch_total_preds += target.size(0)\n",
    "\n",
    "            all_labels.extend(target.cpu().numpy())\n",
    "            all_preds.extend(predicted.cpu().numpy())\n",
    "        \n",
    "        eval_avg_loss = epoch_total_loss / len(dataloader.dataset)\n",
    "        eval_acc = accuracy_score(all_labels, all_preds)\n",
    "        \n",
    "\n",
    "        return eval_avg_loss, eval_acc\n",
    "    "
   ]
  },
  {
   "cell_type": "markdown",
   "metadata": {},
   "source": [
    "## Training Loop"
   ]
  },
  {
   "cell_type": "code",
   "execution_count": 22,
   "metadata": {},
   "outputs": [],
   "source": [
    "\"\"\"\n",
    "Define EarlyStopping that will be used for training loop\n",
    "\"\"\"\n",
    "\n",
    "class EarlyStopping:\n",
    "    def __init__(self, tolerance=5, min_delta=0):\n",
    "\n",
    "        self.tolerance = tolerance\n",
    "        self.min_delta = min_delta\n",
    "        self.counter = 0\n",
    "        self.early_stop = False\n",
    "\n",
    "    def __call__(self, train_loss, validation_loss):\n",
    "        if (validation_loss - train_loss) > self.min_delta:\n",
    "            self.counter +=1\n",
    "            if self.counter >= self.tolerance:  \n",
    "                self.early_stop = True\n",
    "\n",
    "early_stopping = EarlyStopping(tolerance=5, min_delta=0)"
   ]
  },
  {
   "cell_type": "code",
   "execution_count": 23,
   "metadata": {},
   "outputs": [],
   "source": [
    "torch.cuda.empty_cache()\n"
   ]
  },
  {
   "cell_type": "code",
   "execution_count": 24,
   "metadata": {},
   "outputs": [
    {
     "name": "stdout",
     "output_type": "stream",
     "text": [
      "Epoch: 1\n"
     ]
    },
    {
     "name": "stderr",
     "output_type": "stream",
     "text": [
      "Training Loop: 100%|██████████| 64/64 [00:44<00:00,  1.45it/s]\n",
      "Eval Loop: 100%|██████████| 16/16 [00:05<00:00,  2.85it/s]\n"
     ]
    },
    {
     "name": "stdout",
     "output_type": "stream",
     "text": [
      "Epoch number: 1 / 40\n",
      "      Train acc --  0.5261341222879684 ; Train loss --  0.7046262719457201\n",
      "      Validation acc --  0.5266272189349113 ; Validation loss --  0.6664951364904701\n",
      "Epoch: 2\n"
     ]
    },
    {
     "name": "stderr",
     "output_type": "stream",
     "text": [
      "Training Loop: 100%|██████████| 64/64 [00:43<00:00,  1.49it/s]\n",
      "Eval Loop: 100%|██████████| 16/16 [00:05<00:00,  3.14it/s]\n"
     ]
    },
    {
     "name": "stdout",
     "output_type": "stream",
     "text": [
      "Epoch number: 2 / 40\n",
      "      Train acc --  0.5261341222879684 ; Train loss --  0.6357026449321995\n",
      "      Validation acc --  0.5266272189349113 ; Validation loss --  0.6146510944093708\n",
      "Epoch: 3\n"
     ]
    },
    {
     "name": "stderr",
     "output_type": "stream",
     "text": [
      "Training Loop: 100%|██████████| 64/64 [00:45<00:00,  1.42it/s]\n",
      "Eval Loop: 100%|██████████| 16/16 [00:05<00:00,  3.06it/s]\n"
     ]
    },
    {
     "name": "stdout",
     "output_type": "stream",
     "text": [
      "Epoch number: 3 / 40\n",
      "      Train acc --  0.5261341222879684 ; Train loss --  0.6036074859856149\n",
      "      Validation acc --  0.5266272189349113 ; Validation loss --  0.6044731261227023\n",
      "Epoch: 4\n"
     ]
    },
    {
     "name": "stderr",
     "output_type": "stream",
     "text": [
      "Training Loop: 100%|██████████| 64/64 [00:43<00:00,  1.47it/s]\n",
      "Eval Loop: 100%|██████████| 16/16 [00:05<00:00,  3.12it/s]\n"
     ]
    },
    {
     "name": "stdout",
     "output_type": "stream",
     "text": [
      "Epoch number: 4 / 40\n",
      "      Train acc --  0.5261341222879684 ; Train loss --  0.5932926917687441\n",
      "      Validation acc --  0.5266272189349113 ; Validation loss --  0.5947798813823647\n",
      "Epoch: 5\n"
     ]
    },
    {
     "name": "stderr",
     "output_type": "stream",
     "text": [
      "Training Loop: 100%|██████████| 64/64 [00:42<00:00,  1.50it/s]\n",
      "Eval Loop: 100%|██████████| 16/16 [00:04<00:00,  3.21it/s]\n"
     ]
    },
    {
     "name": "stdout",
     "output_type": "stream",
     "text": [
      "Epoch number: 5 / 40\n",
      "      Train acc --  0.5261341222879684 ; Train loss --  0.5818203879296192\n",
      "      Validation acc --  0.5266272189349113 ; Validation loss --  0.5869986035179574\n",
      "Epoch: 6\n"
     ]
    },
    {
     "name": "stderr",
     "output_type": "stream",
     "text": [
      "Training Loop: 100%|██████████| 64/64 [00:43<00:00,  1.49it/s]\n",
      "Eval Loop: 100%|██████████| 16/16 [00:04<00:00,  3.25it/s]\n"
     ]
    },
    {
     "name": "stdout",
     "output_type": "stream",
     "text": [
      "Epoch number: 6 / 40\n",
      "      Train acc --  0.5261341222879684 ; Train loss --  0.5791733685800075\n",
      "      Validation acc --  0.5266272189349113 ; Validation loss --  0.5896433471927981\n",
      "Epoch: 7\n"
     ]
    },
    {
     "name": "stderr",
     "output_type": "stream",
     "text": [
      "Training Loop: 100%|██████████| 64/64 [00:43<00:00,  1.48it/s]\n",
      "Eval Loop: 100%|██████████| 16/16 [00:05<00:00,  3.17it/s]\n"
     ]
    },
    {
     "name": "stdout",
     "output_type": "stream",
     "text": [
      "We are at epoch: 7\n"
     ]
    }
   ],
   "source": [
    "\"\"\"\n",
    "Run epochs with early stopping - RESNET152\n",
    "\"\"\"\n",
    "#init loss lists\n",
    "train_loss_list = []\n",
    "val_loss_list = []\n",
    "test_loss_list = []\n",
    "train_acc_list = []\n",
    "val_acc_list = []\n",
    "test_acc_list = []\n",
    "\n",
    "#for checkpointing later\n",
    "best_val_loss = 1000000  \n",
    "output_folder = \"./output/\"\n",
    "\n",
    "\n",
    "\n",
    "for e in range(1, 40+1):\n",
    "    print('Epoch:', e)\n",
    "\n",
    "    train_loss, train_acc = eval_or_train(model1, train_loader, optimizer, criterion, device, mode = 'train')\n",
    "    train_loss_list.append(train_loss)\n",
    "    train_acc_list.append(train_acc)\n",
    "\n",
    "    val_loss, val_acc = eval_or_train(model1, val_loader, optimizer, criterion, device, mode = 'eval')\n",
    "    val_loss_list.append(val_loss)\n",
    "    val_acc_list.append(val_acc)\n",
    "\n",
    "    scheduler.step()\n",
    "\n",
    "    # Checkpointing\n",
    "    if val_loss < best_val_loss:\n",
    "        best_val_loss = val_loss\n",
    "        torch.save(model1.state_dict(), os.path.join(output_folder, f'res152_ISIC_best.pth'))\n",
    "\n",
    "    #EARLY STOPPING MECHANISM COMPARING TRAIN AND VAL\n",
    "    early_stopping(train_loss,val_loss)\n",
    "    if early_stopping.early_stop:\n",
    "      print(\"We are at epoch:\", e)\n",
    "      break\n",
    "    \n",
    "    torch.cuda.empty_cache()\n",
    "\n",
    "\n",
    "    print(\"Epoch number:\", e, \"/\", 40)\n",
    "    print(\"      Train acc -- \", train_acc, \"; Train loss -- \", train_loss)\n",
    "    print(\"      Validation acc -- \", val_acc, \"; Validation loss -- \", val_loss)\n"
   ]
  },
  {
   "cell_type": "code",
   "execution_count": 25,
   "metadata": {},
   "outputs": [
    {
     "data": {
      "image/png": "[encoded data removed]",
      "text/plain": [
       "<Figure size 640x480 with 1 Axes>"
      ]
     },
     "metadata": {},
     "output_type": "display_data"
    }
   ],
   "source": [
    "\"\"\"\n",
    "Display losses of ResNet152:\n",
    "\"\"\"\n",
    "\n",
    "fig = plt.figure()\n",
    "plt.plot(np.linspace(1, len(train_loss_list), len(train_loss_list)), train_loss_list, label = 'Train Loss')\n",
    "plt.plot(np.linspace(1, len(train_loss_list), len(train_loss_list)), val_loss_list, label = 'Val Loss')\n",
    "plt.xlabel('Epochs')\n",
    "plt.ylabel('Loss')\n",
    "plt.title('Train/Val Loss per Epoch - ResNet152')\n",
    "plt.legend()\n",
    "plt.show()"
   ]
  },
  {
   "cell_type": "markdown",
   "metadata": {},
   "source": [
    "## Try Other Models now"
   ]
  }
 ],
 "metadata": {
  "kernelspec": {
   "display_name": "dsan6600_2",
   "language": "python",
   "name": "python3"
  },
  "language_info": {
   "codemirror_mode": {
    "name": "ipython",
    "version": 3
   },
   "file_extension": ".py",
   "mimetype": "text/x-python",
   "name": "python",
   "nbconvert_exporter": "python",
   "pygments_lexer": "ipython3",
   "version": "3.10.13"
  }
 },
 "nbformat": 4,
 "nbformat_minor": 2
}
